{
  "nbformat": 4,
  "nbformat_minor": 0,
  "metadata": {
    "colab": {
      "name": "plix.ipynb",
      "provenance": [],
      "authorship_tag": "ABX9TyNdhv/3rp/k/wJRHUzceaBg",
      "include_colab_link": true
    },
    "kernelspec": {
      "name": "python3",
      "display_name": "Python 3"
    },
    "language_info": {
      "name": "python"
    }
  },
  "cells": [
    {
      "cell_type": "markdown",
      "metadata": {
        "id": "view-in-github",
        "colab_type": "text"
      },
      "source": [
        "<a href=\"https://colab.research.google.com/github/venaditofdlt/d/blob/main/plix.ipynb\" target=\"_parent\"><img src=\"https://colab.research.google.com/assets/colab-badge.svg\" alt=\"Open In Colab\"/></a>"
      ]
    },
    {
      "cell_type": "code",
      "execution_count": null,
      "metadata": {
        "colab": {
          "base_uri": "https://localhost:8080/"
        },
        "id": "miBRG3yLwFNW",
        "outputId": "3f2593d0-f91b-4101-ccc4-5da360b3c4db"
      },
      "outputs": [
        {
          "output_type": "execute_result",
          "data": {
            "text/plain": [
              "Grubhub          0    2\n",
              "1    7\n",
              "2    6\n",
              "3    7\n",
              "4    5\n",
              "dtype: int64\n",
              "Doordash       0    3\n",
              "1    8\n",
              "2    7\n",
              "3    6\n",
              "4    7\n",
              "5    4\n",
              "6   ...\n",
              "Postmates      0    9\n",
              "1    5\n",
              "2    7\n",
              "3    6\n",
              "4    7\n",
              "5    9\n",
              "dtyp...\n",
              "UberEats         0    5\n",
              "1    6\n",
              "2    2\n",
              "3    4\n",
              "4    2\n",
              "dtype: int64\n",
              "DeliveryCom    0    3\n",
              "1    4\n",
              "2    2\n",
              "3    7\n",
              "4    5\n",
              "5    2\n",
              "6   ...\n",
              "dtype: object"
            ]
          },
          "metadata": {},
          "execution_count": 1
        }
      ],
      "source": [
        "import pandas as pd\n",
        "Grubhub = pd.Series([2, 7, 6, 7, 5])\n",
        "Doordash = pd.Series([3, 8, 7, 6, 7, 4, 5])\n",
        "Postmates = pd.Series([9, 5, 7, 6, 7, 9])\n",
        "UberEats = pd.Series([5, 6, 2, 4, 2])\n",
        "DeliveryCom = pd.Series([3, 4, 2, 7, 5, 2, 5])\n",
        "\n",
        "Proveedor = pd.Series({\n",
        "    \"Grubhub\" : Grubhub,\n",
        "    \"Doordash\" : Doordash,\n",
        "    \"Postmates\" : Postmates,\n",
        "    \"UberEats\" : UberEats,\n",
        "    \"DeliveryCom\" : DeliveryCom\n",
        "})\n",
        "Proveedor"
      ]
    }
  ]
}